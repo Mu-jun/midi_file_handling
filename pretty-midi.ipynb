{
 "cells": [
  {
   "cell_type": "code",
   "execution_count": 14,
   "metadata": {},
   "outputs": [],
   "source": [
    "import pretty_midi\n",
    "import numpy as np\n",
    "import numba\n",
    "import librosa\n",
    "import soundfile as sf\n",
    "\n",
    "\n",
    "import librosa.display\n",
    "import matplotlib.pyplot as plt\n",
    "\n",
    "sr = 44100"
   ]
  },
  {
   "cell_type": "code",
   "execution_count": 2,
   "metadata": {},
   "outputs": [],
   "source": [
    "filename = 'Flower_Dance.mid'"
   ]
  },
  {
   "cell_type": "code",
   "execution_count": 3,
   "metadata": {},
   "outputs": [
    {
     "name": "stdout",
     "output_type": "stream",
     "text": [
      "193.96352016608964\n"
     ]
    }
   ],
   "source": [
    "midi_data = pretty_midi.PrettyMIDI(filename)\n",
    "print(midi_data.estimate_tempo())\n",
    "\n",
    "# audio_data = midi_data.fluidsynth(sr)\n",
    "# sf.write('transcribed.wav',audio_data,sr,'PCM_32')\n"
   ]
  },
  {
   "cell_type": "code",
   "execution_count": 4,
   "metadata": {},
   "outputs": [
    {
     "name": "stdout",
     "output_type": "stream",
     "text": [
      "[0.14882466904816768, 0.006127463854772658, 0.09565674485336208, 0.0, 0.16759261992846294, 0.08340488444147769, 0.0033379099970515603, 0.1020957694680424, 0.01690495096349571, 0.2690256997368642, 0.0, 0.10702928770830306]\n"
     ]
    }
   ],
   "source": [
    "total_velocity = sum(sum(midi_data.get_chroma()))\n",
    "print([sum(semitone)/total_velocity for semitone in midi_data.get_chroma()])"
   ]
  },
  {
   "cell_type": "code",
   "execution_count": 5,
   "metadata": {},
   "outputs": [],
   "source": [
    "for instrument in midi_data.instruments:\n",
    "    if not instrument.is_drum:\n",
    "        for note in instrument.notes:\n",
    "            note.pitch += 5\n",
    "            \n",
    "audio_data = midi_data.synthesize(sr)\n",
    "sf.write('transcribed.wav',audio_data,sr,'PCM_32')"
   ]
  },
  {
   "cell_type": "markdown",
   "metadata": {},
   "source": [
    "# 간단한 MIDI 파일 생성"
   ]
  },
  {
   "cell_type": "code",
   "execution_count": 6,
   "metadata": {},
   "outputs": [
    {
     "name": "stdout",
     "output_type": "stream",
     "text": [
      "cello_c_chord=<pretty_midi.pretty_midi.PrettyMIDI object at 0x000001CED13F7FD0>\n",
      "cello_program=42\n",
      "cello=Instrument(program=42, is_drum=False, name=\"\")\n",
      "note=Note(start=0.000000, end=1.000000, pitch=12, velocity=100)\n"
     ]
    }
   ],
   "source": [
    "cello_c_chord = pretty_midi.PrettyMIDI()\n",
    "print(f'{cello_c_chord=}')\n",
    "\n",
    "cello_program = pretty_midi.instrument_name_to_program('Cello')\n",
    "print(f'{cello_program=}')\n",
    "\n",
    "cello = pretty_midi.Instrument(program=cello_program)\n",
    "print(f'{cello=}')\n",
    "\n",
    "\n",
    "for note_name in ['C5','E5','G5']:\n",
    "    note_number = pretty_midi.note_name_to_number(note_name)\n",
    "    note = pretty_midi.Note(velocity=100, pitch=note_number, start=0, end=1)\n",
    "    cello.notes.append(note)\n",
    "note = pretty_midi.Note(velocity=100, pitch=0, start=0, end=1)\n",
    "cello.notes.append(note)\n",
    "note = pretty_midi.Note(velocity=100, pitch=12, start=0, end=1)\n",
    "cello.notes.append(note)\n",
    "print(f'{note=}')\n",
    "\n",
    "cello_c_chord.instruments.append(cello)\n",
    "cello_c_chord.write('cello-C-chord.mid')"
   ]
  },
  {
   "cell_type": "code",
   "execution_count": 7,
   "metadata": {},
   "outputs": [
    {
     "name": "stdout",
     "output_type": "stream",
     "text": [
      "cello_c_chord=<pretty_midi.pretty_midi.PrettyMIDI object at 0x000001CED141D310>\n",
      "cello_program=42\n",
      "cello=Instrument(program=42, is_drum=False, name=\"\")\n",
      "note_number=120\n"
     ]
    }
   ],
   "source": [
    "cello_c_chord = pretty_midi.PrettyMIDI()\n",
    "print(f'{cello_c_chord=}')\n",
    "\n",
    "cello_program = pretty_midi.instrument_name_to_program('Cello')\n",
    "print(f'{cello_program=}')\n",
    "\n",
    "cello = pretty_midi.Instrument(program=cello_program)\n",
    "print(f'{cello=}')\n",
    "\n",
    "note_number = pretty_midi.note_name_to_number('C9') # 0옥타브 도\n",
    "print(f'{note_number=}')\n",
    "\n",
    "note = pretty_midi.Note(velocity=100, pitch=0, start=0, end=1)\n",
    "cello.notes.append(note)\n",
    "note = pretty_midi.Note(velocity=100, pitch=12, start=0, end=1)\n",
    "cello.notes.append(note)\n",
    "\n",
    "cello_c_chord.instruments.append(cello)\n",
    "cello_c_chord.write('cello-C-chord.mid')"
   ]
  },
  {
   "cell_type": "markdown",
   "metadata": {},
   "source": [
    "# 피아노 롤 그리기"
   ]
  },
  {
   "cell_type": "code",
   "execution_count": 8,
   "metadata": {},
   "outputs": [
    {
     "name": "stderr",
     "output_type": "stream",
     "text": [
      "c:\\Users\\suo24\\anaconda3\\envs\\MA\\lib\\site-packages\\librosa\\util\\decorators.py:88: UserWarning: Frequency axis exceeds Nyquist. Did you remember to set all spectrogram parameters in specshow?\n",
      "  return f(*args, **kwargs)\n"
     ]
    },
    {
     "data": {
      "image/png": "[encoded data removed]",
      "text/plain": [
       "<Figure size 576x288 with 1 Axes>"
      ]
     },
     "metadata": {
      "needs_background": "light"
     },
     "output_type": "display_data"
    }
   ],
   "source": [
    "pm = pretty_midi.PrettyMIDI(initial_tempo=80)\n",
    "\n",
    "inst = pretty_midi.Instrument(program=42, is_drum=False, name='my cello')\n",
    "pm.instruments.append(inst)\n",
    "\n",
    "velocity = 100\n",
    "for pitch, start, end in zip([60, 62, 64], [0.2, 0.6, 1.0], [1.1, 1.7, 2.3]):\n",
    "    inst.notes.append(pretty_midi.Note(velocity, pitch, start, end))\n",
    "\n",
    "def plot_piano_roll(pm, start_pitch, end_pitch, fs=100):\n",
    "    librosa.display.specshow(pm.get_piano_roll(fs)[start_pitch:end_pitch],\n",
    "                             hop_length=1, sr=fs,\n",
    "                             x_axis='time', y_axis='cqt_note',\n",
    "                             fmin=pretty_midi.note_number_to_hz(start_pitch)\n",
    "                             )\n",
    "plt.figure(figsize=(8,4))\n",
    "plot_piano_roll(pm, 56, 70)"
   ]
  },
  {
   "cell_type": "code",
   "execution_count": 9,
   "metadata": {},
   "outputs": [
    {
     "data": {
      "image/png": "[encoded data removed]",
      "text/plain": [
       "<Figure size 864x288 with 1 Axes>"
      ]
     },
     "metadata": {
      "needs_background": "light"
     },
     "output_type": "display_data"
    }
   ],
   "source": [
    "pm = pretty_midi.PrettyMIDI(filename)\n",
    "plt.figure(figsize=(12,4))\n",
    "plot_piano_roll(pm, 24, 84)"
   ]
  },
  {
   "cell_type": "code",
   "execution_count": 10,
   "metadata": {},
   "outputs": [
    {
     "name": "stdout",
     "output_type": "stream",
     "text": [
      "There are 1 time signature changes\n",
      "There are 10 instruments\n",
      "Instrument 3 has 338 notes\n",
      "Instrument 4 has 0 pitch bends\n",
      "Instrument 5 has 776 control changes\n"
     ]
    }
   ],
   "source": [
    "print('There are {} time signature changes'.format(len(pm.time_signature_changes)))\n",
    "print('There are {} instruments'.format(len(pm.instruments)))\n",
    "print('Instrument 3 has {} notes'.format(len(pm.instruments[0].notes)))\n",
    "print('Instrument 4 has {} pitch bends'.format(len(pm.instruments[4].pitch_bends)))\n",
    "print('Instrument 5 has {} control changes'.format(len(pm.instruments[5].control_changes)))"
   ]
  },
  {
   "cell_type": "markdown",
   "metadata": {},
   "source": [
    "# Timing information"
   ]
  },
  {
   "cell_type": "code",
   "execution_count": 11,
   "metadata": {},
   "outputs": [
    {
     "data": {
      "image/png": "[encoded data removed]",
      "text/plain": [
       "<Figure size 432x288 with 1 Axes>"
      ]
     },
     "metadata": {
      "needs_background": "light"
     },
     "output_type": "display_data"
    }
   ],
   "source": [
    "times, tempo_changes = pm.get_tempo_changes()\n",
    "plt.plot(times, tempo_changes, '.')\n",
    "plt.xlabel('Time')\n",
    "plt.ylabel('Tempo');"
   ]
  },
  {
   "cell_type": "code",
   "execution_count": 12,
   "metadata": {},
   "outputs": [
    {
     "name": "stderr",
     "output_type": "stream",
     "text": [
      "c:\\Users\\suo24\\anaconda3\\envs\\MA\\lib\\site-packages\\librosa\\util\\decorators.py:88: UserWarning: Frequency axis exceeds Nyquist. Did you remember to set all spectrogram parameters in specshow?\n",
      "  return f(*args, **kwargs)\n"
     ]
    },
    {
     "data": {
      "image/png": "[encoded data removed]",
      "text/plain": [
       "<Figure size 864x288 with 1 Axes>"
      ]
     },
     "metadata": {
      "needs_background": "light"
     },
     "output_type": "display_data"
    }
   ],
   "source": [
    "beats = pm.get_beats()\n",
    "downbeats = pm.get_downbeats()\n",
    "\n",
    "plt.figure(figsize=(12,4))\n",
    "plot_piano_roll(pm, 24, 84)\n",
    "ymin, ymax = plt.ylim()"
   ]
  },
  {
   "cell_type": "code",
   "execution_count": 13,
   "metadata": {},
   "outputs": [],
   "source": [
    "def extract_cqt(audio_data, fs, hop, note_start, n_notes):\n",
    "    cqt = librosa.cqt(\n",
    "        audio_data, sr=fs, hop_length=hop,\n",
    "        fmin=librosa.midi_to_hz(note_start), n_bins=n_notes)\n",
    "    cqt = cqt.T\n",
    "    cqt = librosa.amplitude_to_db(librosa.magphase(cqt)[0], ref=cqt.max())\n",
    "    cqt = librosa.util.normalize(cqt, norm=2., axis=1)\n",
    "    times = librosa.frames_to_time(np.arange(cqt.shape[0]), fs, hop)\n",
    "    return cqt, times"
   ]
  },
  {
   "cell_type": "markdown",
   "metadata": {},
   "source": [
    "# midi to wav"
   ]
  },
  {
   "cell_type": "code",
   "execution_count": 17,
   "metadata": {},
   "outputs": [],
   "source": [
    "@numba.jit(nopython=True)\n",
    "def band_mask(radius, mask):\n",
    "    \"\"\"Construct band-around-diagonal mask (Sakoe-Chiba band).  When\n",
    "    ``mask.shape[0] != mask.shape[1]``, the radius will be expanded so that\n",
    "    ``mask[-1, -1] = 1`` always.\n",
    "    `mask` will be modified in place.\n",
    "    Parameters\n",
    "    ----------\n",
    "    radius : float\n",
    "        The band radius (1/2 of the width) will be\n",
    "        ``int(radius*min(mask.shape))``.\n",
    "    mask : np.ndarray\n",
    "        Pre-allocated boolean matrix of zeros.\n",
    "    Examples\n",
    "    --------\n",
    "    >>> mask = np.zeros((8, 8), dtype=np.bool)\n",
    "    >>> band_mask(.25, mask)\n",
    "    >>> mask.astype(int)\n",
    "    array([[1, 1, 0, 0, 0, 0, 0, 0],\n",
    "           [1, 1, 1, 0, 0, 0, 0, 0],\n",
    "           [0, 1, 1, 1, 0, 0, 0, 0],\n",
    "           [0, 0, 1, 1, 1, 0, 0, 0],\n",
    "           [0, 0, 0, 1, 1, 1, 0, 0],\n",
    "           [0, 0, 0, 0, 1, 1, 1, 0],\n",
    "           [0, 0, 0, 0, 0, 1, 1, 1],\n",
    "           [0, 0, 0, 0, 0, 0, 1, 1]])\n",
    "    >>> mask = np.zeros((8, 12), dtype=np.bool)\n",
    "    >>> band_mask(.25, mask)\n",
    "    >>> mask.astype(int)\n",
    "    array([[1, 1, 1, 1, 1, 1, 0, 0, 0, 0, 0, 0],\n",
    "           [1, 1, 1, 1, 1, 1, 1, 0, 0, 0, 0, 0],\n",
    "           [0, 1, 1, 1, 1, 1, 1, 1, 0, 0, 0, 0],\n",
    "           [0, 0, 1, 1, 1, 1, 1, 1, 1, 0, 0, 0],\n",
    "           [0, 0, 0, 1, 1, 1, 1, 1, 1, 1, 0, 0],\n",
    "           [0, 0, 0, 0, 1, 1, 1, 1, 1, 1, 1, 0],\n",
    "           [0, 0, 0, 0, 0, 1, 1, 1, 1, 1, 1, 1],\n",
    "           [0, 0, 0, 0, 0, 0, 1, 1, 1, 1, 1, 1]])\n",
    "    \"\"\"\n",
    "    nx, ny = mask.shape\n",
    "    # The logic will be different depending on whether there are more rows\n",
    "    # or columns in the mask.  Coding it this way results in some code\n",
    "    # duplication but it's the most efficient way with numba\n",
    "    if nx < ny:\n",
    "        # Calculate the radius in indices, rather than proportion\n",
    "        radius = int(round(nx*radius))\n",
    "        # Force radius to be at least one\n",
    "        radius = 1 if radius == 0 else radius\n",
    "        for i in xrange(nx):\n",
    "            for j in xrange(ny):\n",
    "                # If this i, j falls within the band\n",
    "                if i - j + (nx - radius) < nx and j - i + (nx - radius) < ny:\n",
    "                    # Set the mask to 1 here\n",
    "                    mask[i, j] = 1\n",
    "    # Same exact approach with ny/ny and i/j switched.\n",
    "    else:\n",
    "        radius = int(round(ny*radius))\n",
    "        radius = 1 if radius == 0 else radius\n",
    "        for i in range(nx):\n",
    "            for j in range(ny):\n",
    "                if j - i + (ny - radius) < ny and i - j + (ny - radius) < nx:\n",
    "                    mask[i, j] = 1\n",
    "\n",
    "\n",
    "@numba.jit(nopython=True)\n",
    "def dtw_core(dist_mat, add_pen, mul_pen, traceback):\n",
    "    \"\"\"Core dynamic programming routine for DTW.\n",
    "    `dist_mat` and `traceback` will be modified in-place.\n",
    "    Parameters\n",
    "    ----------\n",
    "    dist_mat : np.ndarray\n",
    "        Distance matrix to update with lowest-cost path to each entry.\n",
    "    add_pen : int or float\n",
    "        Additive penalty for non-diagonal moves.\n",
    "    mul_pen : int or float\n",
    "        Multiplicative penalty for non-diagonal moves.\n",
    "    traceback : np.ndarray\n",
    "        Matrix to populate with the lowest-cost traceback from each entry.\n",
    "    \"\"\"\n",
    "    # At each loop iteration, we are computing lowest cost to D[i + 1, j + 1]\n",
    "    # TOOD: Would probably be faster if xrange(1, dist_mat.shape[0])\n",
    "    for i in xrange(dist_mat.shape[0] - 1):\n",
    "        for j in xrange(dist_mat.shape[1] - 1):\n",
    "            # Diagonal move (which has no penalty) is lowest\n",
    "            if dist_mat[i, j] <= mul_pen*dist_mat[i, j + 1] + add_pen and \\\n",
    "               dist_mat[i, j] <= mul_pen*dist_mat[i + 1, j] + add_pen:\n",
    "                traceback[i + 1, j + 1] = 0\n",
    "                dist_mat[i + 1, j + 1] += dist_mat[i, j]\n",
    "            # Horizontal move (has penalty)\n",
    "            elif (dist_mat[i, j + 1] <= dist_mat[i + 1, j] and\n",
    "                  mul_pen*dist_mat[i, j + 1] + add_pen <= dist_mat[i, j]):\n",
    "                traceback[i + 1, j + 1] = 1\n",
    "                dist_mat[i + 1, j + 1] += mul_pen*dist_mat[i, j + 1] + add_pen\n",
    "            # Vertical move (has penalty)\n",
    "            elif (dist_mat[i + 1, j] <= dist_mat[i, j + 1] and\n",
    "                  mul_pen*dist_mat[i + 1, j] + add_pen <= dist_mat[i, j]):\n",
    "                traceback[i + 1, j + 1] = 2\n",
    "                dist_mat[i + 1, j + 1] += mul_pen*dist_mat[i + 1, j] + add_pen\n",
    "\n",
    "\n",
    "@numba.jit(nopython=True)\n",
    "def dtw_core_masked(dist_mat, add_pen, mul_pen, traceback, mask):\n",
    "    \"\"\"Core dynamic programming routine for DTW, with an index mask, so that\n",
    "    the possible paths are constrained.\n",
    "    `dist_mat` and `traceback` will be modified in-place.\n",
    "    Parameters\n",
    "    ----------\n",
    "    dist_mat : np.ndarray\n",
    "        Distance matrix to update with lowest-cost path to each entry.\n",
    "    add_pen : int or float\n",
    "        Additive penalty for non-diagonal moves.\n",
    "    mul_pen : int or float\n",
    "        Multiplicative penalty for non-diagonal moves.\n",
    "    traceback : np.ndarray\n",
    "        Matrix to populate with the lowest-cost traceback from each entry.\n",
    "    mask : np.ndarray\n",
    "        A boolean matrix, such that ``mask[i, j] == 1`` when the index ``i, j``\n",
    "        should be allowed in the DTW path and ``mask[i, j] == 0`` otherwise.\n",
    "    \"\"\"\n",
    "    # At each loop iteration, we are computing lowest cost to D[i + 1, j + 1]\n",
    "    # TOOD: Would probably be faster if xrange(1, dist_mat.shape[0])\n",
    "    for i in xrange(dist_mat.shape[0] - 1):\n",
    "        for j in xrange(dist_mat.shape[1] - 1):\n",
    "            # If this point is not reachable, set the cost to infinity\n",
    "            if not mask[i, j] and not mask[i, j + 1] and not mask[i + 1, j]:\n",
    "                dist_mat[i + 1, j + 1] = np.inf\n",
    "            else:\n",
    "                # Diagonal move (which has no penalty) is lowest, or is the\n",
    "                # only valid move\n",
    "                if ((dist_mat[i, j] <= mul_pen*dist_mat[i, j + 1] + add_pen\n",
    "                     or not mask[i, j + 1]) and\n",
    "                    (dist_mat[i, j] <= mul_pen*dist_mat[i + 1, j] + add_pen\n",
    "                     or not mask[i + 1, j])):\n",
    "                    traceback[i + 1, j + 1] = 0\n",
    "                    dist_mat[i + 1, j + 1] += dist_mat[i, j]\n",
    "                # Horizontal move (has penalty)\n",
    "                elif ((dist_mat[i, j + 1] <= dist_mat[i + 1, j]\n",
    "                       or not mask[i + 1, j]) and\n",
    "                      (mul_pen*dist_mat[i, j + 1] + add_pen <= dist_mat[i, j]\n",
    "                       or not mask[i, j])):\n",
    "                    traceback[i + 1, j + 1] = 1\n",
    "                    dist_mat[i + 1, j + 1] += (mul_pen*dist_mat[i, j + 1] +\n",
    "                                               add_pen)\n",
    "                # Vertical move (has penalty)\n",
    "                elif ((dist_mat[i + 1, j] <= dist_mat[i, j + 1]\n",
    "                       or not mask[i, j + 1]) and\n",
    "                      (mul_pen*dist_mat[i + 1, j] + add_pen <= dist_mat[i, j]\n",
    "                       or not mask[i, j])):\n",
    "                    traceback[i + 1, j + 1] = 2\n",
    "                    dist_mat[i + 1, j + 1] += (mul_pen*dist_mat[i + 1, j] +\n",
    "                                               add_pen)\n"
   ]
  },
  {
   "cell_type": "code",
   "execution_count": 18,
   "metadata": {},
   "outputs": [],
   "source": [
    "def dtw(distance_matrix, gully=1., additive_penalty=0.,\n",
    "        multiplicative_penalty=1., mask=None, inplace=True):\n",
    "    if np.isnan(distance_matrix).any():\n",
    "        raise ValueError('NaN values found in distance matrix.')\n",
    "    if not inplace:\n",
    "        distance_matrix = distance_matrix.copy()\n",
    "    # Pre-allocate path length matrix\n",
    "    traceback = np.empty(distance_matrix.shape, np.uint8)\n",
    "    # Don't use masked DTW routine if no mask was provided\n",
    "    if mask is None:\n",
    "        # Populate distance matrix with lowest cost path\n",
    "        dtw_core(distance_matrix, additive_penalty, multiplicative_penalty,\n",
    "                 traceback)\n",
    "    else:\n",
    "        dtw_core_masked(distance_matrix, additive_penalty,\n",
    "                        multiplicative_penalty, traceback, mask)\n",
    "    if gully < 1.:\n",
    "        # Allow the end of the path to start within gully percentage of the\n",
    "        # smaller distance matrix dimension\n",
    "        gully = int(gully*min(distance_matrix.shape))\n",
    "    else:\n",
    "        # When gully is 1 require matching the entirety of the smaller sequence\n",
    "        gully = min(distance_matrix.shape) - 1\n",
    "\n",
    "    # Find the indices of the smallest costs on the bottom and right edges\n",
    "    i = np.argmin(distance_matrix[gully:, -1]) + gully\n",
    "    j = np.argmin(distance_matrix[-1, gully:]) + gully\n",
    "\n",
    "    # Choose the smaller cost on the two edges\n",
    "    if distance_matrix[-1, j] > distance_matrix[i, -1]:\n",
    "        j = distance_matrix.shape[1] - 1\n",
    "    else:\n",
    "        i = distance_matrix.shape[0] - 1\n",
    "\n",
    "    # Score is the final score of the best path\n",
    "    score = float(distance_matrix[i, j])\n",
    "\n",
    "    # Pre-allocate the x and y path index arrays\n",
    "    x_indices = np.zeros(sum(traceback.shape), dtype=np.int)\n",
    "    y_indices = np.zeros(sum(traceback.shape), dtype=np.int)\n",
    "    # Start the arrays from the end of the path\n",
    "    x_indices[0] = i\n",
    "    y_indices[0] = j\n",
    "    # Keep track of path length\n",
    "    n = 1\n",
    "\n",
    "    # Until we reach an edge\n",
    "    while i > 0 and j > 0:\n",
    "        # If the tracback matrix indicates a diagonal move...\n",
    "        if traceback[i, j] == 0:\n",
    "            i = i - 1\n",
    "            j = j - 1\n",
    "        # Horizontal move...\n",
    "        elif traceback[i, j] == 1:\n",
    "            i = i - 1\n",
    "        # Vertical move...\n",
    "        elif traceback[i, j] == 2:\n",
    "            j = j - 1\n",
    "        # Add these indices into the path arrays\n",
    "        x_indices[n] = i\n",
    "        y_indices[n] = j\n",
    "        n += 1\n",
    "    # Reverse and crop the path index arrays\n",
    "    x_indices = x_indices[:n][::-1]\n",
    "    y_indices = y_indices[:n][::-1]\n",
    "\n",
    "    return x_indices, y_indices, score"
   ]
  },
  {
   "cell_type": "code",
   "execution_count": 22,
   "metadata": {},
   "outputs": [],
   "source": [
    "def align(midi_object, audio_data, fs, hop, note_start, n_notes, penalty):\n",
    "    # Get synthesized MIDI audio\n",
    "    midi_audio = midi_object.fluidsynth(fs=fs,sf2_path='TimGM6mb.sf2')\n",
    "    # Compute CQ-grams for MIDI and audio\n",
    "    midi_gram, midi_times = extract_cqt(\n",
    "        midi_audio, fs, hop, note_start, n_notes)\n",
    "    audio_gram, audio_times = extract_cqt(\n",
    "        audio_data, fs, hop, note_start, n_notes)\n",
    "    # Compute distance matrix; because the columns of the CQ-grams are\n",
    "    # L2-normalized we can compute a cosine distance matrix via a dot product\n",
    "    distance_matrix = 1 - np.dot(midi_gram, audio_gram.T)\n",
    "    if penalty is None:\n",
    "        penalty = distance_matrix.mean()\n",
    "    # Compute lowest-cost path through distance matrix\n",
    "    p, q, score = dtw(\n",
    "        distance_matrix, gully=.98, additive_penalty=penalty)\n",
    "    # Adjust the timing of the MIDI object according to the alignment\n",
    "    midi_object.adjust_times(midi_times[p], audio_times[q])"
   ]
  },
  {
   "cell_type": "code",
   "execution_count": 27,
   "metadata": {},
   "outputs": [
    {
     "ename": "ImportError",
     "evalue": "fluidsynth() was called but pyfluidsynth is not installed.",
     "output_type": "error",
     "traceback": [
      "\u001b[1;31m---------------------------------------------------------------------------\u001b[0m",
      "\u001b[1;31mImportError\u001b[0m                               Traceback (most recent call last)",
      "\u001b[1;32mc:\\Users\\suo24\\Desktop\\Projects\\AI_Training\\Sound_Handling\\python_midi_handling\\pretty-midi.ipynb Cell 21'\u001b[0m in \u001b[0;36m<cell line: 7>\u001b[1;34m()\u001b[0m\n\u001b[0;32m      <a href='vscode-notebook-cell:/c%3A/Users/suo24/Desktop/Projects/AI_Training/Sound_Handling/python_midi_handling/pretty-midi.ipynb#ch0000020?line=4'>5</a>\u001b[0m audio_data, sr \u001b[39m=\u001b[39m librosa\u001b[39m.\u001b[39mload(\u001b[39m'\u001b[39m\u001b[39mTears_of_a_witch_SFA.wav\u001b[39m\u001b[39m'\u001b[39m,sr\u001b[39m=\u001b[39m\u001b[39mNone\u001b[39;00m)\n\u001b[0;32m      <a href='vscode-notebook-cell:/c%3A/Users/suo24/Desktop/Projects/AI_Training/Sound_Handling/python_midi_handling/pretty-midi.ipynb#ch0000020?line=5'>6</a>\u001b[0m midi_object \u001b[39m=\u001b[39m pretty_midi\u001b[39m.\u001b[39mPrettyMIDI(\u001b[39m'\u001b[39m\u001b[39mtranscribed.mid\u001b[39m\u001b[39m'\u001b[39m)\n\u001b[1;32m----> <a href='vscode-notebook-cell:/c%3A/Users/suo24/Desktop/Projects/AI_Training/Sound_Handling/python_midi_handling/pretty-midi.ipynb#ch0000020?line=6'>7</a>\u001b[0m align(midi_object,audio_data,sr,HOP,NOTE_START,N_NOTES,\u001b[39mNone\u001b[39;49;00m)\n\u001b[0;32m      <a href='vscode-notebook-cell:/c%3A/Users/suo24/Desktop/Projects/AI_Training/Sound_Handling/python_midi_handling/pretty-midi.ipynb#ch0000020?line=7'>8</a>\u001b[0m midi_object\u001b[39m.\u001b[39mwrite(\u001b[39m'\u001b[39m\u001b[39mTears_of_a_witch_SFA.mid\u001b[39m\u001b[39m'\u001b[39m)\n",
      "\u001b[1;32mc:\\Users\\suo24\\Desktop\\Projects\\AI_Training\\Sound_Handling\\python_midi_handling\\pretty-midi.ipynb Cell 20'\u001b[0m in \u001b[0;36malign\u001b[1;34m(midi_object, audio_data, fs, hop, note_start, n_notes, penalty)\u001b[0m\n\u001b[0;32m      <a href='vscode-notebook-cell:/c%3A/Users/suo24/Desktop/Projects/AI_Training/Sound_Handling/python_midi_handling/pretty-midi.ipynb#ch0000016?line=0'>1</a>\u001b[0m \u001b[39mdef\u001b[39;00m \u001b[39malign\u001b[39m(midi_object, audio_data, fs, hop, note_start, n_notes, penalty):\n\u001b[0;32m      <a href='vscode-notebook-cell:/c%3A/Users/suo24/Desktop/Projects/AI_Training/Sound_Handling/python_midi_handling/pretty-midi.ipynb#ch0000016?line=1'>2</a>\u001b[0m     \u001b[39m# Get synthesized MIDI audio\u001b[39;00m\n\u001b[1;32m----> <a href='vscode-notebook-cell:/c%3A/Users/suo24/Desktop/Projects/AI_Training/Sound_Handling/python_midi_handling/pretty-midi.ipynb#ch0000016?line=2'>3</a>\u001b[0m     midi_audio \u001b[39m=\u001b[39m midi_object\u001b[39m.\u001b[39;49mfluidsynth(fs\u001b[39m=\u001b[39;49mfs,sf2_path\u001b[39m=\u001b[39;49m\u001b[39m'\u001b[39;49m\u001b[39mTimGM6mb.sf2\u001b[39;49m\u001b[39m'\u001b[39;49m)\n\u001b[0;32m      <a href='vscode-notebook-cell:/c%3A/Users/suo24/Desktop/Projects/AI_Training/Sound_Handling/python_midi_handling/pretty-midi.ipynb#ch0000016?line=3'>4</a>\u001b[0m     \u001b[39m# Compute CQ-grams for MIDI and audio\u001b[39;00m\n\u001b[0;32m      <a href='vscode-notebook-cell:/c%3A/Users/suo24/Desktop/Projects/AI_Training/Sound_Handling/python_midi_handling/pretty-midi.ipynb#ch0000016?line=4'>5</a>\u001b[0m     midi_gram, midi_times \u001b[39m=\u001b[39m extract_cqt(\n\u001b[0;32m      <a href='vscode-notebook-cell:/c%3A/Users/suo24/Desktop/Projects/AI_Training/Sound_Handling/python_midi_handling/pretty-midi.ipynb#ch0000016?line=5'>6</a>\u001b[0m         midi_audio, fs, hop, note_start, n_notes)\n",
      "File \u001b[1;32mc:\\Users\\suo24\\anaconda3\\envs\\MA\\lib\\site-packages\\pretty_midi\\pretty_midi.py:945\u001b[0m, in \u001b[0;36mPrettyMIDI.fluidsynth\u001b[1;34m(self, fs, sf2_path)\u001b[0m\n\u001b[0;32m    943\u001b[0m     \u001b[39mreturn\u001b[39;00m np\u001b[39m.\u001b[39marray([])\n\u001b[0;32m    944\u001b[0m \u001b[39m# Get synthesized waveform for each instrument\u001b[39;00m\n\u001b[1;32m--> 945\u001b[0m waveforms \u001b[39m=\u001b[39m [i\u001b[39m.\u001b[39mfluidsynth(fs\u001b[39m=\u001b[39mfs,\n\u001b[0;32m    946\u001b[0m                           sf2_path\u001b[39m=\u001b[39msf2_path) \u001b[39mfor\u001b[39;00m i \u001b[39min\u001b[39;00m \u001b[39mself\u001b[39m\u001b[39m.\u001b[39minstruments]\n\u001b[0;32m    947\u001b[0m \u001b[39m# Allocate output waveform, with #sample = max length of all waveforms\u001b[39;00m\n\u001b[0;32m    948\u001b[0m synthesized \u001b[39m=\u001b[39m np\u001b[39m.\u001b[39mzeros(np\u001b[39m.\u001b[39mmax([w\u001b[39m.\u001b[39mshape[\u001b[39m0\u001b[39m] \u001b[39mfor\u001b[39;00m w \u001b[39min\u001b[39;00m waveforms]))\n",
      "File \u001b[1;32mc:\\Users\\suo24\\anaconda3\\envs\\MA\\lib\\site-packages\\pretty_midi\\pretty_midi.py:945\u001b[0m, in \u001b[0;36m<listcomp>\u001b[1;34m(.0)\u001b[0m\n\u001b[0;32m    943\u001b[0m     \u001b[39mreturn\u001b[39;00m np\u001b[39m.\u001b[39marray([])\n\u001b[0;32m    944\u001b[0m \u001b[39m# Get synthesized waveform for each instrument\u001b[39;00m\n\u001b[1;32m--> 945\u001b[0m waveforms \u001b[39m=\u001b[39m [i\u001b[39m.\u001b[39;49mfluidsynth(fs\u001b[39m=\u001b[39;49mfs,\n\u001b[0;32m    946\u001b[0m                           sf2_path\u001b[39m=\u001b[39;49msf2_path) \u001b[39mfor\u001b[39;00m i \u001b[39min\u001b[39;00m \u001b[39mself\u001b[39m\u001b[39m.\u001b[39minstruments]\n\u001b[0;32m    947\u001b[0m \u001b[39m# Allocate output waveform, with #sample = max length of all waveforms\u001b[39;00m\n\u001b[0;32m    948\u001b[0m synthesized \u001b[39m=\u001b[39m np\u001b[39m.\u001b[39mzeros(np\u001b[39m.\u001b[39mmax([w\u001b[39m.\u001b[39mshape[\u001b[39m0\u001b[39m] \u001b[39mfor\u001b[39;00m w \u001b[39min\u001b[39;00m waveforms]))\n",
      "File \u001b[1;32mc:\\Users\\suo24\\anaconda3\\envs\\MA\\lib\\site-packages\\pretty_midi\\instrument.py:456\u001b[0m, in \u001b[0;36mInstrument.fluidsynth\u001b[1;34m(self, fs, sf2_path)\u001b[0m\n\u001b[0;32m    453\u001b[0m     sf2_path \u001b[39m=\u001b[39m pkg_resources\u001b[39m.\u001b[39mresource_filename(\u001b[39m__name__\u001b[39m, DEFAULT_SF2)\n\u001b[0;32m    455\u001b[0m \u001b[39mif\u001b[39;00m \u001b[39mnot\u001b[39;00m _HAS_FLUIDSYNTH:\n\u001b[1;32m--> 456\u001b[0m     \u001b[39mraise\u001b[39;00m \u001b[39mImportError\u001b[39;00m(\u001b[39m\"\u001b[39m\u001b[39mfluidsynth() was called but pyfluidsynth \u001b[39m\u001b[39m\"\u001b[39m\n\u001b[0;32m    457\u001b[0m                       \u001b[39m\"\u001b[39m\u001b[39mis not installed.\u001b[39m\u001b[39m\"\u001b[39m)\n\u001b[0;32m    459\u001b[0m \u001b[39mif\u001b[39;00m \u001b[39mnot\u001b[39;00m os\u001b[39m.\u001b[39mpath\u001b[39m.\u001b[39mexists(sf2_path):\n\u001b[0;32m    460\u001b[0m     \u001b[39mraise\u001b[39;00m \u001b[39mValueError\u001b[39;00m(\u001b[39m\"\u001b[39m\u001b[39mNo soundfont file found at the supplied path \u001b[39m\u001b[39m\"\u001b[39m\n\u001b[0;32m    461\u001b[0m                      \u001b[39m\"\u001b[39m\u001b[39m{}\u001b[39;00m\u001b[39m\"\u001b[39m\u001b[39m.\u001b[39mformat(sf2_path))\n",
      "\u001b[1;31mImportError\u001b[0m: fluidsynth() was called but pyfluidsynth is not installed."
     ]
    }
   ],
   "source": [
    "HOP = 512\n",
    "NOTE_START=36\n",
    "N_NOTES = 48\n",
    "\n",
    "audio_data, sr = librosa.load('Tears_of_a_witch_SFA.wav',sr=None)\n",
    "midi_object = pretty_midi.PrettyMIDI('transcribed.mid')\n",
    "align(midi_object,audio_data,sr,HOP,NOTE_START,N_NOTES,None)\n",
    "midi_object.write('Tears_of_a_witch_SFA.mid')"
   ]
  },
  {
   "cell_type": "code",
   "execution_count": null,
   "metadata": {},
   "outputs": [],
   "source": []
  }
 ],
 "metadata": {
  "interpreter": {
   "hash": "0d2432c1d6e84635d51706be02c2d8538e2b3a500c4f9828f5f40c57643f2213"
  },
  "kernelspec": {
   "display_name": "Python 3.9.12 ('MA')",
   "language": "python",
   "name": "python3"
  },
  "language_info": {
   "codemirror_mode": {
    "name": "ipython",
    "version": 3
   },
   "file_extension": ".py",
   "mimetype": "text/x-python",
   "name": "python",
   "nbconvert_exporter": "python",
   "pygments_lexer": "ipython3",
   "version": "3.9.12"
  },
  "orig_nbformat": 4
 },
 "nbformat": 4,
 "nbformat_minor": 2
}
